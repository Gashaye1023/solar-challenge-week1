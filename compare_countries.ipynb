{
 "cells": [
  {
   "cell_type": "code",
   "execution_count": null,
   "id": "e1d3dc02",
   "metadata": {},
   "outputs": [],
   "source": [
    "import pandas as pd\n",
    "\n",
    "# Load the cleaned datasets\n",
    "benin = pd.read_csv('data/benin_clean.csv')\n",
    "sierra_leone = pd.read_csv('data/sierra_leone_clean.csv')\n",
    "togo = pd.read_csv('data/togo_clean.csv')\n",
    "\n",
    "# Combine datasets\n",
    "benin['Country'] = 'Benin'\n",
    "sierra_leone['Country'] = 'Sierra Leone'\n",
    "togo['Country'] = 'Togo'\n",
    "\n",
    "# Concatenate all dataframes\n",
    "combined_data = pd.concat([benin, sierra_leone, togo], ignore_index=True)"
   ]
  },
  {
   "cell_type": "code",
   "execution_count": null,
   "id": "e47e4c67",
   "metadata": {},
   "outputs": [],
   "source": [
    "import matplotlib.pyplot as plt\n",
    "import seaborn as sns\n",
    "\n",
    "# Set the aesthetic style of the plots\n",
    "sns.set(style='whitegrid')\n",
    "\n",
    "# Boxplot for GHI, DNI, DHI\n",
    "plt.figure(figsize=(15, 5))\n",
    "\n",
    "# GHI Boxplot\n",
    "plt.subplot(1, 3, 1)\n",
    "sns.boxplot(x='Country', y='GHI', data=combined_data)\n",
    "plt.title('GHI Comparison by Country')\n",
    "\n",
    "# DNI Boxplot\n",
    "plt.subplot(1, 3, 2)\n",
    "sns.boxplot(x='Country', y='DNI', data=combined_data)\n",
    "plt.title('DNI Comparison by Country')\n",
    "\n",
    "# DHI Boxplot\n",
    "plt.subplot(1, 3, 3)\n",
    "sns.boxplot(x='Country', y='DHI', data=combined_data)\n",
    "plt.title('DHI Comparison by Country')\n",
    "\n",
    "plt.tight_layout()\n",
    "plt.show()"
   ]
  },
  {
   "cell_type": "code",
   "execution_count": null,
   "id": "1192f895",
   "metadata": {},
   "outputs": [],
   "source": [
    "# Summary statistics\n",
    "summary_stats = combined_data.groupby('Country')[['GHI', 'DNI', 'DHI']].agg(['mean', 'median', 'std']).reset_index()\n",
    "print(summary_stats)"
   ]
  },
  {
   "cell_type": "code",
   "execution_count": null,
   "id": "269bddb4",
   "metadata": {},
   "outputs": [],
   "source": [
    "# Calculate average GHI for each country\n",
    "avg_ghi = combined_data.groupby('Country')['GHI'].mean().reset_index()\n",
    "\n",
    "# Bar chart for average GHI\n",
    "plt.figure(figsize=(8, 5))\n",
    "sns.barplot(x='Country', y='GHI', data=avg_ghi, palette='viridis')\n",
    "plt.title('Average GHI by Country')\n",
    "plt.xlabel('Country')\n",
    "plt.ylabel('Average GHI (W/m²)')\n",
    "plt.show()"
   ]
  }
 ],
 "metadata": {
  "language_info": {
   "name": "python"
  }
 },
 "nbformat": 4,
 "nbformat_minor": 5
}
