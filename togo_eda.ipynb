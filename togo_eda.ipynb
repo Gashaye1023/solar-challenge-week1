{
 "cells": [
  {
   "cell_type": "code",
   "execution_count": 1,
   "id": "6639bf05",
   "metadata": {},
   "outputs": [],
   "source": [
    "import pandas as pd\n",
    "import numpy as np\n",
    "from scipy import stats\n",
    "import matplotlib.pyplot as plt\n",
    "import seaborn as sns"
   ]
  },
  {
   "cell_type": "markdown",
   "id": "29f9f248",
   "metadata": {},
   "source": [
    "Read dataset"
   ]
  },
  {
   "cell_type": "code",
   "execution_count": 3,
   "id": "8f4aa3f7",
   "metadata": {},
   "outputs": [],
   "source": [
    "df=pd.read_csv(\"data/togo-dapaong_qc.csv\")\n",
    "#df['date'] = pd.to_datetime(df['date'], format='%Y-%m-%d')"
   ]
  },
  {
   "cell_type": "markdown",
   "id": "c7d1e0c5",
   "metadata": {},
   "source": [
    "Summary Statistics & Missing-Value Report"
   ]
  },
  {
   "cell_type": "code",
   "execution_count": 4,
   "id": "09fe2565",
   "metadata": {},
   "outputs": [
    {
     "name": "stdout",
     "output_type": "stream",
     "text": [
      "                 GHI            DNI            DHI           ModA  \\\n",
      "count  525600.000000  525600.000000  525600.000000  525600.000000   \n",
      "mean      230.555040     151.258469     116.444352     226.144375   \n",
      "std       322.532347     250.956962     156.520714     317.346938   \n",
      "min       -12.700000       0.000000       0.000000       0.000000   \n",
      "25%        -2.200000       0.000000       0.000000       0.000000   \n",
      "50%         2.100000       0.000000       2.500000       4.400000   \n",
      "75%       442.400000     246.400000     215.700000     422.525000   \n",
      "max      1424.000000    1004.500000     805.700000    1380.000000   \n",
      "\n",
      "                ModB           Tamb             RH             WS  \\\n",
      "count  525600.000000  525600.000000  525600.000000  525600.000000   \n",
      "mean      219.568588      27.751788      55.013160       2.368093   \n",
      "std       307.932510       4.758023      28.778732       1.462668   \n",
      "min         0.000000      14.900000       3.300000       0.000000   \n",
      "25%         0.000000      24.200000      26.500000       1.400000   \n",
      "50%         4.300000      27.200000      59.300000       2.200000   \n",
      "75%       411.000000      31.100000      80.800000       3.200000   \n",
      "max      1367.000000      41.400000      99.800000      16.100000   \n",
      "\n",
      "              WSgust        WSstdev             WD        WDstdev  \\\n",
      "count  525600.000000  525600.000000  525600.000000  525600.000000   \n",
      "mean        3.229490       0.557740     161.741845      10.559568   \n",
      "std         1.882565       0.268923      91.877217       5.915490   \n",
      "min         0.000000       0.000000       0.000000       0.000000   \n",
      "25%         1.900000       0.400000      74.800000       6.900000   \n",
      "50%         2.900000       0.500000     199.100000      10.800000   \n",
      "75%         4.400000       0.700000     233.500000      14.100000   \n",
      "max        23.100000       4.700000     360.000000      86.900000   \n",
      "\n",
      "                  BP       Cleaning  Precipitation          TModA  \\\n",
      "count  525600.000000  525600.000000  525600.000000  525600.000000   \n",
      "mean      975.915242       0.000535       0.001382      32.444403   \n",
      "std         2.153977       0.023116       0.026350      10.998334   \n",
      "min       968.000000       0.000000       0.000000      13.100000   \n",
      "25%       975.000000       0.000000       0.000000      23.900000   \n",
      "50%       976.000000       0.000000       0.000000      28.400000   \n",
      "75%       977.000000       0.000000       0.000000      40.600000   \n",
      "max       983.000000       1.000000       2.300000      70.400000   \n",
      "\n",
      "               TModB  Comments  \n",
      "count  525600.000000       0.0  \n",
      "mean       33.543330       NaN  \n",
      "std        12.769277       NaN  \n",
      "min        13.100000       NaN  \n",
      "25%        23.600000       NaN  \n",
      "50%        28.400000       NaN  \n",
      "75%        43.000000       NaN  \n",
      "max        94.600000       NaN  \n",
      "Comments    525600\n",
      "dtype: int64\n",
      "Columns with >5% nulls: ['Comments']\n"
     ]
    }
   ],
   "source": [
    "# Summary statistics for numeric columns\n",
    "summary_stats = df.describe()\n",
    "print(summary_stats)\n",
    "\n",
    "# Missing value report\n",
    "missing_values = df.isna().sum()\n",
    "print(missing_values[missing_values > 0])\n",
    "\n",
    "\n",
    "# List columns with >5% nulls\n",
    "threshold = 0.05 * len(df)\n",
    "high_nulls = missing_values[missing_values > threshold]\n",
    "print(\"Columns with >5% nulls:\", high_nulls.index.tolist())"
   ]
  },
  {
   "cell_type": "code",
   "execution_count": 5,
   "id": "ee271e72",
   "metadata": {},
   "outputs": [
    {
     "name": "stdout",
     "output_type": "stream",
     "text": [
      "An overview of the dataset: the shape of the dataset\n",
      "<class 'pandas.core.frame.DataFrame'>\n",
      "RangeIndex: 525600 entries, 0 to 525599\n",
      "Data columns (total 19 columns):\n",
      " #   Column         Non-Null Count   Dtype  \n",
      "---  ------         --------------   -----  \n",
      " 0   Timestamp      525600 non-null  object \n",
      " 1   GHI            525600 non-null  float64\n",
      " 2   DNI            525600 non-null  float64\n",
      " 3   DHI            525600 non-null  float64\n",
      " 4   ModA           525600 non-null  float64\n",
      " 5   ModB           525600 non-null  float64\n",
      " 6   Tamb           525600 non-null  float64\n",
      " 7   RH             525600 non-null  float64\n",
      " 8   WS             525600 non-null  float64\n",
      " 9   WSgust         525600 non-null  float64\n",
      " 10  WSstdev        525600 non-null  float64\n",
      " 11  WD             525600 non-null  float64\n",
      " 12  WDstdev        525600 non-null  float64\n",
      " 13  BP             525600 non-null  int64  \n",
      " 14  Cleaning       525600 non-null  int64  \n",
      " 15  Precipitation  525600 non-null  float64\n",
      " 16  TModA          525600 non-null  float64\n",
      " 17  TModB          525600 non-null  float64\n",
      " 18  Comments       0 non-null       float64\n",
      "dtypes: float64(16), int64(2), object(1)\n",
      "memory usage: 76.2+ MB\n",
      "None\n"
     ]
    }
   ],
   "source": [
    "print(\"An overview of the dataset: the shape of the dataset\")\n",
    "print(df.info())"
   ]
  },
  {
   "cell_type": "markdown",
   "id": "88840216",
   "metadata": {},
   "source": [
    "Outlier Detection & Basic Cleaning"
   ]
  },
  {
   "cell_type": "code",
   "execution_count": 6,
   "id": "2f52dcfc",
   "metadata": {},
   "outputs": [
    {
     "name": "stdout",
     "output_type": "stream",
     "text": [
      "Total outliers flagged: 12550\n",
      "Missing values before imputation:\n",
      "GHI       0\n",
      "DNI       0\n",
      "DHI       0\n",
      "ModA      0\n",
      "ModB      0\n",
      "WS        0\n",
      "WSgust    0\n",
      "dtype: int64\n",
      "Missing values after imputation:\n",
      "GHI       0\n",
      "DNI       0\n",
      "DHI       0\n",
      "ModA      0\n",
      "ModB      0\n",
      "WS        0\n",
      "WSgust    0\n",
      "dtype: int64\n",
      "Number of outlier samples flagged in all numeric columns: 0\n"
     ]
    }
   ],
   "source": [
    "# Assuming df is your DataFrame\n",
    "key_columns = ['GHI', 'DNI', 'DHI', 'ModA', 'ModB', 'WS', 'WSgust']\n",
    "outlier_flags = {}\n",
    "\n",
    "# Compute Z-scores and flag outliers\n",
    "for col in key_columns:\n",
    "    z_scores = stats.zscore(df[col].dropna())\n",
    "    outlier_flags[col] = abs(z_scores) > 3\n",
    "    df[col + '_outlier'] = outlier_flags[col]\n",
    "\n",
    "# Count and log outliers\n",
    "total_outliers = sum(outlier_flags[col].sum() for col in key_columns)\n",
    "print(f\"Total outliers flagged: {total_outliers}\")\n",
    "\n",
    "# Drop or impute missing values in key columns\n",
    "missing_values = df[key_columns].isnull().sum()\n",
    "print(f\"Missing values before imputation:\\n{missing_values}\")\n",
    "\n",
    "df[key_columns] = df[key_columns].fillna(df[key_columns].median())\n",
    "\n",
    "# Verify missing values after imputation\n",
    "missing_values_after = df[key_columns].isnull().sum()\n",
    "print(f\"Missing values after imputation:\\n{missing_values_after}\")\n",
    "\n",
    "# Compute Z-scores and flag outliers for all numeric columns\n",
    "numeric_cols = df.select_dtypes(include=[np.number]).columns.tolist()\n",
    "z_scores = np.abs(stats.zscore(df[numeric_cols].dropna()))\n",
    "outlier_flags_all = (z_scores > 3).any(axis=1)\n",
    "print(f\"Number of outlier samples flagged in all numeric columns: {outlier_flags_all.sum()}\")\n",
    "# Export cleaned DataFrame\n",
    "df.to_csv('data/benin_clean.csv', index=False)"
   ]
  },
  {
   "cell_type": "markdown",
   "id": "fe27a525",
   "metadata": {},
   "source": [
    "Time Series Analysis"
   ]
  },
  {
   "cell_type": "code",
   "execution_count": null,
   "id": "62cc4a6a",
   "metadata": {},
   "outputs": [],
   "source": [
    "# Ensure timestamp is in datetime format\n",
    "df['Timestamp'] = pd.to_datetime(df['Timestamp'])\n",
    "\n",
    "# Plot GHI, DNI, DHI, and Tamb\n",
    "plt.figure(figsize=(15, 10))\n",
    "plt.subplot(4, 1, 1)\n",
    "plt.plot(df['Timestamp'], df['GHI'], label='GHI', color='orange')\n",
    "plt.title('Global Horizontal Irradiance (GHI)')\n",
    "plt.ylabel('Irradiance (W/m²)')\n",
    "\n",
    "plt.subplot(4, 1, 2)\n",
    "plt.plot(df['Timestamp'], df['DNI'], label='DNI', color='blue')\n",
    "plt.title('Direct Normal Irradiance (DNI)')\n",
    "plt.ylabel('Irradiance (W/m²)')\n",
    "\n",
    "plt.subplot(4, 1, 3)\n",
    "plt.plot(df['Timestamp'], df['DHI'], label='DHI', color='green')\n",
    "plt.title('Diffuse Horizontal Irradiance (DHI)')\n",
    "plt.ylabel('Irradiance (W/m²)')\n",
    "\n",
    "plt.subplot(4, 1, 4)\n",
    "plt.plot(df['Timestamp'], df['Tamb'], label='Tamb', color='red')\n",
    "plt.title('Ambient Temperature (Tamb)')\n",
    "plt.ylabel('Temperature (°C)')\n",
    "plt.xlabel('Timestamp')\n",
    "\n",
    "plt.tight_layout()\n",
    "plt.show()"
   ]
  },
  {
   "cell_type": "code",
   "execution_count": null,
   "id": "96184135",
   "metadata": {},
   "outputs": [],
   "source": [
    "# Assuming you have a cleaning flag column\n",
    "cleaning_impact = df.groupby('cleaning_flag')[['ModA', 'ModB']].mean().reset_index()\n",
    "\n",
    "# Plotting\n",
    "plt.figure(figsize=(10, 6))\n",
    "plt.bar(cleaning_impact['cleaning_flag'], cleaning_impact['ModA'], alpha=0.6, label='Average ModA')\n",
    "plt.bar(cleaning_impact['cleaning_flag'], cleaning_impact['ModB'], alpha=0.6, label='Average ModB', bottom=cleaning_impact['ModA'])\n",
    "plt.title('Impact of Cleaning on ModA and ModB')\n",
    "plt.xlabel('Cleaning Flag')\n",
    "plt.ylabel('Average Values')\n",
    "plt.legend()\n",
    "plt.show()"
   ]
  },
  {
   "cell_type": "code",
   "execution_count": null,
   "id": "bdd21c19",
   "metadata": {},
   "outputs": [],
   "source": [
    "# Heatmap of correlations\n",
    "correlation_matrix = df[['GHI', 'DNI', 'DHI', 'ModA', 'ModB']].corr()\n",
    "sns.heatmap(correlation_matrix, annot=True, fmt='.2f', cmap='coolwarm')\n",
    "plt.title('Correlation Heatmap')\n",
    "plt.show()\n",
    "\n",
    "# Scatter plots\n",
    "plt.figure(figsize=(15, 5))\n",
    "\n",
    "# WS vs. GHI\n",
    "plt.subplot(1, 3, 1)\n",
    "plt.scatter(df['WS'], df['GHI'], alpha=0.5)\n",
    "plt.title('WS vs. GHI')\n",
    "plt.xlabel('Wind Speed (WS)')\n",
    "plt.ylabel('GHI')\n",
    "\n",
    "# WSgust vs. GHI\n",
    "plt.subplot(1, 3, 2)\n",
    "plt.scatter(df['WSgust'], df['GHI'], alpha=0.5)\n",
    "plt.title('WSgust vs. GHI')\n",
    "plt.xlabel('Wind Gust Speed (WSgust)')\n",
    "plt.ylabel('GHI')\n",
    "\n",
    "# RH vs. Tamb\n",
    "plt.subplot(1, 3, 3)\n",
    "plt.scatter(df['RH'], df['Tamb'], alpha=0.5)\n",
    "plt.title('RH vs. Tamb')\n",
    "plt.xlabel('Relative Humidity (RH)')\n",
    "plt.ylabel('Ambient Temperature (Tamb)')\n",
    "\n",
    "plt.tight_layout()\n",
    "plt.show()"
   ]
  },
  {
   "cell_type": "code",
   "execution_count": null,
   "id": "4513f6c9",
   "metadata": {},
   "outputs": [],
   "source": [
    "# Histograms for GHI and WS\n",
    "plt.figure(figsize=(15, 6))\n",
    "\n",
    "# Histogram for GHI\n",
    "plt.subplot(1, 2, 1)\n",
    "plt.hist(df['GHI'], bins=30, color='orange', edgecolor='black')\n",
    "plt.title('Histogram of GHI')\n",
    "plt.xlabel('GHI (W/m²)')\n",
    "plt.ylabel('Frequency')\n",
    "\n",
    "# Histogram for WS\n",
    "plt.subplot(1, 2, 2)\n",
    "plt.hist(df['WS'], bins=30, color='blue', edgecolor='black')\n",
    "plt.title('Histogram of Wind Speed (WS)')\n",
    "plt.xlabel('Wind Speed (m/s)')\n",
    "plt.ylabel('Frequency')\n",
    "\n",
    "plt.tight_layout()\n",
    "plt.show()"
   ]
  },
  {
   "cell_type": "code",
   "execution_count": null,
   "id": "e2c7f8d6",
   "metadata": {},
   "outputs": [],
   "source": [
    "# Examine how RH influences temperature\n",
    "sns.scatterplot(data=df, x='RH', y='Tamb')\n",
    "plt.title('Relative Humidity vs. Ambient Temperature')\n",
    "plt.xlabel('Relative Humidity (RH)')\n",
    "plt.ylabel('Ambient Temperature (Tamb)')\n",
    "plt.show()"
   ]
  },
  {
   "cell_type": "code",
   "execution_count": null,
   "id": "232a69e3",
   "metadata": {},
   "outputs": [],
   "source": [
    "# Bubble chart: GHI vs. Tamb with bubble size = RH\n",
    "plt.figure(figsize=(10, 6))\n",
    "plt.scatter(df['GHI'], df['Tamb'], s=df['RH']*10, alpha=0.5, c='blue', edgecolors='w')\n",
    "plt.title('Bubble Chart: GHI vs. Tamb')\n",
    "plt.xlabel('Global Horizontal Irradiance (GHI)')\n",
    "plt.ylabel('Ambient Temperature (Tamb)')\n",
    "plt.show()"
   ]
  },
  {
   "cell_type": "code",
   "execution_count": null,
   "id": "84cd68c8",
   "metadata": {},
   "outputs": [],
   "source": []
  }
 ],
 "metadata": {
  "kernelspec": {
   "display_name": ".venv",
   "language": "python",
   "name": "python3"
  },
  "language_info": {
   "codemirror_mode": {
    "name": "ipython",
    "version": 3
   },
   "file_extension": ".py",
   "mimetype": "text/x-python",
   "name": "python",
   "nbconvert_exporter": "python",
   "pygments_lexer": "ipython3",
   "version": "3.12.3"
  }
 },
 "nbformat": 4,
 "nbformat_minor": 5
}
