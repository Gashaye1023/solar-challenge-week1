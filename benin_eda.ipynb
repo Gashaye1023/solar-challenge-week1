{
 "cells": [
  {
   "cell_type": "code",
   "execution_count": 2,
   "id": "26d50022",
   "metadata": {},
   "outputs": [],
   "source": [
    "import pandas as pd\n",
    "import numpy as np"
   ]
  },
  {
   "cell_type": "code",
   "execution_count": 6,
   "id": "2359e6a8",
   "metadata": {},
   "outputs": [],
   "source": [
    "df=pd.read_csv(\"data/data/benin-malanville.csv\")\n",
    "#df['date'] = pd.to_datetime(df['date'], format='%Y-%m-%d')"
   ]
  },
  {
   "cell_type": "markdown",
   "id": "e3a62b0d",
   "metadata": {},
   "source": [
    "Summary Statistics & Missing-Value Report"
   ]
  },
  {
   "cell_type": "code",
   "execution_count": 8,
   "id": "76dc8d4c",
   "metadata": {},
   "outputs": [
    {
     "name": "stdout",
     "output_type": "stream",
     "text": [
      "                 GHI            DNI            DHI           ModA  \\\n",
      "count  525600.000000  525600.000000  525600.000000  525600.000000   \n",
      "mean      240.559452     167.187516     115.358961     236.589496   \n",
      "std       331.131327     261.710501     158.691074     326.894859   \n",
      "min       -12.900000      -7.800000     -12.600000       0.000000   \n",
      "25%        -2.000000      -0.500000      -2.100000       0.000000   \n",
      "50%         1.800000      -0.100000       1.600000       4.500000   \n",
      "75%       483.400000     314.200000     216.300000     463.700000   \n",
      "max      1413.000000     952.300000     759.200000    1342.300000   \n",
      "\n",
      "                ModB           Tamb             RH             WS  \\\n",
      "count  525600.000000  525600.000000  525600.000000  525600.000000   \n",
      "mean      228.883576      28.179683      54.487969       2.121113   \n",
      "std       316.536515       5.924297      28.073069       1.603466   \n",
      "min         0.000000      11.000000       2.100000       0.000000   \n",
      "25%         0.000000      24.200000      28.800000       1.000000   \n",
      "50%         4.300000      28.000000      55.100000       1.900000   \n",
      "75%       447.900000      32.300000      80.100000       3.100000   \n",
      "max      1342.300000      43.800000     100.000000      19.500000   \n",
      "\n",
      "              WSgust        WSstdev             WD        WDstdev  \\\n",
      "count  525600.000000  525600.000000  525600.000000  525600.000000   \n",
      "mean        2.809195       0.473390     153.435172       8.582407   \n",
      "std         2.029120       0.273395     102.332842       6.385864   \n",
      "min         0.000000       0.000000       0.000000       0.000000   \n",
      "25%         1.300000       0.400000      59.000000       3.700000   \n",
      "50%         2.600000       0.500000     181.000000       8.600000   \n",
      "75%         4.100000       0.600000     235.100000      12.300000   \n",
      "max        26.600000       4.200000     360.000000      99.400000   \n",
      "\n",
      "                  BP       Cleaning  Precipitation          TModA  \\\n",
      "count  525600.000000  525600.000000  525600.000000  525600.000000   \n",
      "mean      994.197199       0.000923       0.001905      35.246026   \n",
      "std         2.474993       0.030363       0.037115      14.807258   \n",
      "min       985.000000       0.000000       0.000000       9.000000   \n",
      "25%       993.000000       0.000000       0.000000      24.200000   \n",
      "50%       994.000000       0.000000       0.000000      30.000000   \n",
      "75%       996.000000       0.000000       0.000000      46.900000   \n",
      "max      1003.000000       1.000000       2.500000      81.000000   \n",
      "\n",
      "               TModB  Comments  \n",
      "count  525600.000000       0.0  \n",
      "mean       32.471736       NaN  \n",
      "std        12.348743       NaN  \n",
      "min         8.100000       NaN  \n",
      "25%        23.600000       NaN  \n",
      "50%        28.900000       NaN  \n",
      "75%        41.500000       NaN  \n",
      "max        72.500000       NaN  \n",
      "Comments    525600\n",
      "dtype: int64\n",
      "Columns with >5% nulls: ['Comments']\n"
     ]
    }
   ],
   "source": [
    "# Summary statistics for numeric columns\n",
    "summary_stats = df.describe()\n",
    "print(summary_stats)\n",
    "\n",
    "# Missing value report\n",
    "missing_values = df.isna().sum()\n",
    "print(missing_values[missing_values > 0])\n",
    "\n",
    "\n",
    "# List columns with >5% nulls\n",
    "threshold = 0.05 * len(df)\n",
    "high_nulls = missing_values[missing_values > threshold]\n",
    "print(\"Columns with >5% nulls:\", high_nulls.index.tolist())"
   ]
  },
  {
   "cell_type": "markdown",
   "id": "57f33064",
   "metadata": {},
   "source": [
    "Outlier Detection & Basic Cleaning"
   ]
  },
  {
   "cell_type": "code",
   "execution_count": 9,
   "id": "61d1ef3f",
   "metadata": {},
   "outputs": [
    {
     "ename": "ModuleNotFoundError",
     "evalue": "No module named 'scipy'",
     "output_type": "error",
     "traceback": [
      "\u001b[31m---------------------------------------------------------------------------\u001b[39m",
      "\u001b[31mModuleNotFoundError\u001b[39m                       Traceback (most recent call last)",
      "\u001b[36mCell\u001b[39m\u001b[36m \u001b[39m\u001b[32mIn[9]\u001b[39m\u001b[32m, line 1\u001b[39m\n\u001b[32m----> \u001b[39m\u001b[32m1\u001b[39m \u001b[38;5;28;01mfrom\u001b[39;00m\u001b[38;5;250m \u001b[39m\u001b[34;01mscipy\u001b[39;00m\u001b[38;5;250m \u001b[39m\u001b[38;5;28;01mimport\u001b[39;00m stats\n\u001b[32m      2\u001b[39m \u001b[38;5;66;03m# Check for outliers and missing values in key columns\u001b[39;00m\n\u001b[32m      3\u001b[39m key_columns = [\u001b[33m'\u001b[39m\u001b[33mGHI\u001b[39m\u001b[33m'\u001b[39m, \u001b[33m'\u001b[39m\u001b[33mDNI\u001b[39m\u001b[33m'\u001b[39m, \u001b[33m'\u001b[39m\u001b[33mDHI\u001b[39m\u001b[33m'\u001b[39m, \u001b[33m'\u001b[39m\u001b[33mModA\u001b[39m\u001b[33m'\u001b[39m, \u001b[33m'\u001b[39m\u001b[33mModB\u001b[39m\u001b[33m'\u001b[39m, \u001b[33m'\u001b[39m\u001b[33mWS\u001b[39m\u001b[33m'\u001b[39m, \u001b[33m'\u001b[39m\u001b[33mWSgust\u001b[39m\u001b[33m'\u001b[39m]\n",
      "\u001b[31mModuleNotFoundError\u001b[39m: No module named 'scipy'"
     ]
    }
   ],
   "source": [
    "from scipy import stats\n",
    "# Check for outliers and missing values in key columns\n",
    "key_columns = ['GHI', 'DNI', 'DHI', 'ModA', 'ModB', 'WS', 'WSgust']\n",
    "outlier_flags = {}\n",
    "\n",
    "# Compute Z-scores and flag outliers\n",
    "for col in key_columns:\n",
    "    z_scores = stats.zscore(df[col].dropna())\n",
    "    outlier_flags[col] = abs(z_scores) > 3\n",
    "    df[col + '_outlier'] = outlier_flags[col]\n",
    "\n",
    "# Drop or impute missing values in key columns\n",
    "df[key_columns] = df[key_columns].fillna(df[key_columns].median())\n",
    "\n",
    "# Export cleaned DataFrame\n",
    "df.to_csv('data/<country>_clean.csv', index=False)"
   ]
  },
  {
   "cell_type": "markdown",
   "id": "12fbeefc",
   "metadata": {},
   "source": [
    "Time Series Analysis"
   ]
  },
  {
   "cell_type": "code",
   "execution_count": null,
   "id": "229e036d",
   "metadata": {},
   "outputs": [],
   "source": [
    "import matplotlib.pyplot as plt\n",
    "\n",
    "# Ensure timestamp is in datetime format\n",
    "df['Timestamp'] = pd.to_datetime(df['Timestamp'])\n",
    "\n",
    "# Plot GHI, DNI, DHI, and Tamb\n",
    "plt.figure(figsize=(15, 10))\n",
    "plt.subplot(4, 1, 1)\n",
    "plt.plot(df['Timestamp'], df['GHI'], label='GHI', color='orange')\n",
    "plt.title('Global Horizontal Irradiance (GHI)')\n",
    "plt.ylabel('Irradiance (W/m²)')\n",
    "\n",
    "plt.subplot(4, 1, 2)\n",
    "plt.plot(df['Timestamp'], df['DNI'], label='DNI', color='blue')\n",
    "plt.title('Direct Normal Irradiance (DNI)')\n",
    "plt.ylabel('Irradiance (W/m²)')\n",
    "\n",
    "plt.subplot(4, 1, 3)\n",
    "plt.plot(df['Timestamp'], df['DHI'], label='DHI', color='green')\n",
    "plt.title('Diffuse Horizontal Irradiance (DHI)')\n",
    "plt.ylabel('Irradiance (W/m²)')\n",
    "\n",
    "plt.subplot(4, 1, 4)\n",
    "plt.plot(df['Timestamp'], df['Tamb'], label='Tamb', color='red')\n",
    "plt.title('Ambient Temperature (Tamb)')\n",
    "plt.ylabel('Temperature (°C)')\n",
    "plt.xlabel('Timestamp')\n",
    "\n",
    "plt.tight_layout()\n",
    "plt.show()"
   ]
  },
  {
   "cell_type": "markdown",
   "id": "697f4238",
   "metadata": {},
   "source": [
    "Cleaning Impact"
   ]
  },
  {
   "cell_type": "code",
   "execution_count": null,
   "id": "99f4c124",
   "metadata": {},
   "outputs": [],
   "source": [
    "# Assuming you have a cleaning flag column\n",
    "cleaning_impact = df.groupby('cleaning_flag')[['ModA', 'ModB']].mean().reset_index()\n",
    "\n",
    "# Plotting\n",
    "plt.figure(figsize=(10, 6))\n",
    "plt.bar(cleaning_impact['cleaning_flag'], cleaning_impact['ModA'], alpha=0.6, label='Average ModA')\n",
    "plt.bar(cleaning_impact['cleaning_flag'], cleaning_impact['ModB'], alpha=0.6, label='Average ModB', bottom=cleaning_impact['ModA'])\n",
    "plt.title('Impact of Cleaning on ModA and ModB')\n",
    "plt.xlabel('Cleaning Flag')\n",
    "plt.ylabel('Average Values')\n",
    "plt.legend()\n",
    "plt.show()"
   ]
  },
  {
   "cell_type": "markdown",
   "id": "4c8c2002",
   "metadata": {},
   "source": [
    "Correlation & Relationship Analysis"
   ]
  },
  {
   "cell_type": "code",
   "execution_count": null,
   "id": "b56b936b",
   "metadata": {},
   "outputs": [],
   "source": [
    "import seaborn as sns\n",
    "\n",
    "# Heatmap of correlations\n",
    "correlation_matrix = df[['GHI', 'DNI', 'DHI', 'ModA', 'ModB']].corr()\n",
    "sns.heatmap(correlation_matrix, annot=True, fmt='.2f', cmap='coolwarm')\n",
    "plt.title('Correlation Heatmap')\n",
    "plt.show()\n",
    "\n",
    "# Scatter plots\n",
    "plt.figure(figsize=(15, 5))\n",
    "\n",
    "# WS vs. GHI\n",
    "plt.subplot(1, 3, 1)\n",
    "plt.scatter(df['WS'], df['GHI'], alpha=0.5)\n",
    "plt.title('WS vs. GHI')\n",
    "plt.xlabel('Wind Speed (WS)')\n",
    "plt.ylabel('GHI')\n",
    "\n",
    "# WSgust vs. GHI\n",
    "plt.subplot(1, 3, 2)\n",
    "plt.scatter(df['WSgust'], df['GHI'], alpha=0.5)\n",
    "plt.title('WSgust vs. GHI')\n",
    "plt.xlabel('Wind Gust Speed (WSgust)')\n",
    "plt.ylabel('GHI')\n",
    "\n",
    "# RH vs. Tamb\n",
    "plt.subplot(1, 3, 3)\n",
    "plt.scatter(df['RH'], df['Tamb'], alpha=0.5)\n",
    "plt.title('RH vs. Tamb')\n",
    "plt.xlabel('Relative Humidity (RH)')\n",
    "plt.ylabel('Ambient Temperature (Tamb)')\n",
    "\n",
    "plt.tight_layout()\n",
    "plt.show()"
   ]
  },
  {
   "cell_type": "markdown",
   "id": "4e9bfc07",
   "metadata": {},
   "source": [
    "Wind & Distribution Analysis"
   ]
  },
  {
   "cell_type": "code",
   "execution_count": null,
   "id": "6282ace9",
   "metadata": {},
   "outputs": [],
   "source": [
    "# Histograms for GHI and WS\n",
    "plt.figure(figsize=(15, 6))\n",
    "\n",
    "# Histogram for GHI\n",
    "plt.subplot(1, 2, 1)\n",
    "plt.hist(df['GHI'], bins=30, color='orange', edgecolor='black')\n",
    "plt.title('Histogram of GHI')\n",
    "plt.xlabel('GHI (W/m²)')\n",
    "plt.ylabel('Frequency')\n",
    "\n",
    "# Histogram for WS\n",
    "plt.subplot(1, 2, 2)\n",
    "plt.hist(df['WS'], bins=30, color='blue', edgecolor='black')\n",
    "plt.title('Histogram of Wind Speed (WS)')\n",
    "plt.xlabel('Wind Speed (m/s)')\n",
    "plt.ylabel('Frequency')\n",
    "\n",
    "plt.tight_layout()\n",
    "plt.show()"
   ]
  },
  {
   "cell_type": "markdown",
   "id": "a9b6d9b2",
   "metadata": {},
   "source": [
    "Temperature Analysis"
   ]
  },
  {
   "cell_type": "code",
   "execution_count": null,
   "id": "ee177444",
   "metadata": {},
   "outputs": [],
   "source": [
    "# Examine how RH influences temperature\n",
    "sns.scatterplot(data=df, x='RH', y='Tamb')\n",
    "plt.title('Relative Humidity vs. Ambient Temperature')\n",
    "plt.xlabel('Relative Humidity (RH)')\n",
    "plt.ylabel('Ambient Temperature (Tamb)')\n",
    "plt.show()"
   ]
  },
  {
   "cell_type": "markdown",
   "id": "248b2e0f",
   "metadata": {},
   "source": [
    "Bubble Chart"
   ]
  },
  {
   "cell_type": "code",
   "execution_count": null,
   "id": "90a98e22",
   "metadata": {},
   "outputs": [],
   "source": [
    "# Bubble chart: GHI vs. Tamb with bubble size = RH\n",
    "plt.figure(figsize=(10, 6))\n",
    "plt.scatter(df['GHI'], df['Tamb'], s=df['RH']*10, alpha=0.5, c='blue', edgecolors='w')\n",
    "plt.title('Bubble Chart: GHI vs. Tamb')\n",
    "plt.xlabel('Global Horizontal Irradiance (GHI)')\n",
    "plt.ylabel('Ambient Temperature (Tamb)')\n",
    "plt.show()"
   ]
  }
 ],
 "metadata": {
  "kernelspec": {
   "display_name": ".venv",
   "language": "python",
   "name": "python3"
  },
  "language_info": {
   "codemirror_mode": {
    "name": "ipython",
    "version": 3
   },
   "file_extension": ".py",
   "mimetype": "text/x-python",
   "name": "python",
   "nbconvert_exporter": "python",
   "pygments_lexer": "ipython3",
   "version": "3.12.3"
  }
 },
 "nbformat": 4,
 "nbformat_minor": 5
}
