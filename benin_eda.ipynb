{
 "cells": [
  {
   "cell_type": "code",
   "execution_count": 2,
   "id": "26d50022",
   "metadata": {},
   "outputs": [],
   "source": [
    "import pandas as pd\n",
    "import numpy as np"
   ]
  },
  {
   "cell_type": "code",
   "execution_count": 6,
   "id": "2359e6a8",
   "metadata": {},
   "outputs": [],
   "source": [
    "df=pd.read_csv(\"data/data/benin-malanville.csv\")\n",
    "#df['date'] = pd.to_datetime(df['date'], format='%Y-%m-%d')"
   ]
  },
  {
   "cell_type": "markdown",
   "id": "e3a62b0d",
   "metadata": {},
   "source": [
    "Summary Statistics & Missing-Value Report"
   ]
  },
  {
   "cell_type": "code",
   "execution_count": 7,
   "id": "76dc8d4c",
   "metadata": {},
   "outputs": [
    {
     "name": "stdout",
     "output_type": "stream",
     "text": [
      "Summary Statistics:\n",
      "                 GHI            DNI            DHI           ModA  \\\n",
      "count  525600.000000  525600.000000  525600.000000  525600.000000   \n",
      "mean      240.559452     167.187516     115.358961     236.589496   \n",
      "std       331.131327     261.710501     158.691074     326.894859   \n",
      "min       -12.900000      -7.800000     -12.600000       0.000000   \n",
      "25%        -2.000000      -0.500000      -2.100000       0.000000   \n",
      "50%         1.800000      -0.100000       1.600000       4.500000   \n",
      "75%       483.400000     314.200000     216.300000     463.700000   \n",
      "max      1413.000000     952.300000     759.200000    1342.300000   \n",
      "\n",
      "                ModB           Tamb             RH             WS  \\\n",
      "count  525600.000000  525600.000000  525600.000000  525600.000000   \n",
      "mean      228.883576      28.179683      54.487969       2.121113   \n",
      "std       316.536515       5.924297      28.073069       1.603466   \n",
      "min         0.000000      11.000000       2.100000       0.000000   \n",
      "25%         0.000000      24.200000      28.800000       1.000000   \n",
      "50%         4.300000      28.000000      55.100000       1.900000   \n",
      "75%       447.900000      32.300000      80.100000       3.100000   \n",
      "max      1342.300000      43.800000     100.000000      19.500000   \n",
      "\n",
      "              WSgust        WSstdev             WD        WDstdev  \\\n",
      "count  525600.000000  525600.000000  525600.000000  525600.000000   \n",
      "mean        2.809195       0.473390     153.435172       8.582407   \n",
      "std         2.029120       0.273395     102.332842       6.385864   \n",
      "min         0.000000       0.000000       0.000000       0.000000   \n",
      "25%         1.300000       0.400000      59.000000       3.700000   \n",
      "50%         2.600000       0.500000     181.000000       8.600000   \n",
      "75%         4.100000       0.600000     235.100000      12.300000   \n",
      "max        26.600000       4.200000     360.000000      99.400000   \n",
      "\n",
      "                  BP       Cleaning  Precipitation          TModA  \\\n",
      "count  525600.000000  525600.000000  525600.000000  525600.000000   \n",
      "mean      994.197199       0.000923       0.001905      35.246026   \n",
      "std         2.474993       0.030363       0.037115      14.807258   \n",
      "min       985.000000       0.000000       0.000000       9.000000   \n",
      "25%       993.000000       0.000000       0.000000      24.200000   \n",
      "50%       994.000000       0.000000       0.000000      30.000000   \n",
      "75%       996.000000       0.000000       0.000000      46.900000   \n",
      "max      1003.000000       1.000000       2.500000      81.000000   \n",
      "\n",
      "               TModB  Comments  \n",
      "count  525600.000000       0.0  \n",
      "mean       32.471736       NaN  \n",
      "std        12.348743       NaN  \n",
      "min         8.100000       NaN  \n",
      "25%        23.600000       NaN  \n",
      "50%        28.900000       NaN  \n",
      "75%        41.500000       NaN  \n",
      "max        72.500000       NaN  \n",
      "\n",
      "Missing-Value Report:\n",
      "Comments    100.0\n",
      "dtype: float64\n"
     ]
    }
   ],
   "source": [
    "# Summary statistics for all numeric columns\n",
    "summary_statistics = df.describe()\n",
    "\n",
    "# Display summary statistics\n",
    "print(\"Summary Statistics:\")\n",
    "print(summary_statistics)\n",
    "\n",
    "# Missing-value report\n",
    "missing_values = df.isna().sum()\n",
    "\n",
    "# Calculate the percentage of missing values\n",
    "missing_percentage = (missing_values / len(df)) * 100\n",
    "\n",
    "# List columns with more than 5% nulls\n",
    "columns_with_nulls = missing_percentage[missing_percentage > 5]\n",
    "\n",
    "# Display missing-value report\n",
    "print(\"\\nMissing-Value Report:\")\n",
    "print(columns_with_nulls)"
   ]
  },
  {
   "cell_type": "markdown",
   "id": "57f33064",
   "metadata": {},
   "source": [
    "Outlier Detection & Basic Cleaning"
   ]
  },
  {
   "cell_type": "code",
   "execution_count": null,
   "id": "61d1ef3f",
   "metadata": {},
   "outputs": [],
   "source": [
    "from scipy.stats import zscore\n",
    "import seaborn as sns\n",
    "import matplotlib.pyplot as plt\n",
    "# Step 2: Drop or impute missing values in key columns (assuming GHI, DNI, DHI, ModA, ModB, WS, WSgust are key)\n",
    "key_columns = ['GHI', 'DNI', 'DHI', 'ModA', 'ModB', 'WS', 'WSgust']\n",
    "df[key_columns] = df[key_columns].fillna(df[key_columns].median())\n",
    "\n",
    "# Step 3: Compute Z-scores\n",
    "z_scores = zscore(df[key_columns])\n",
    "z_scores_df = pd.DataFrame(z_scores, columns=key_columns)\n",
    "\n",
    "# Step 4: Flag rows with |Z| > 3\n",
    "outlier_flags = (np.abs(z_scores_df) > 3).any(axis=1)\n",
    "df['outlier'] = outlier_flags\n",
    "\n",
    "# Step 5: Optionally drop outliers\n",
    "# df = df[~df['outlier']]  # Uncomment this line to drop outliers\n",
    "\n",
    "# Step 6: Export cleaned DataFrame to CSV\n",
    "output_path = 'data/<country>_clean.csv'  # Replace <country> with your country name\n",
    "df.to_csv(output_path, index=False)\n",
    "\n",
    "print(f\"Cleaned DataFrame exported to: {output_path}\")"
   ]
  },
  {
   "cell_type": "markdown",
   "id": "12fbeefc",
   "metadata": {},
   "source": [
    "Time Series Analysis"
   ]
  },
  {
   "cell_type": "code",
   "execution_count": null,
   "id": "229e036d",
   "metadata": {},
   "outputs": [],
   "source": [
    "df['Timestamp'] = pd.to_datetime(df['Timestamp'])\n",
    "df.set_index('Timestamp', inplace=True)"
   ]
  },
  {
   "cell_type": "code",
   "execution_count": null,
   "id": "f88f25d5",
   "metadata": {},
   "outputs": [],
   "source": [
    "# Resample data to daily means\n",
    "daily_data = df.resample('D').mean()"
   ]
  },
  {
   "cell_type": "code",
   "execution_count": null,
   "id": "c65793a4",
   "metadata": {},
   "outputs": [],
   "source": [
    "import matplotlib.pyplot as plt\n",
    "import seaborn as sns\n",
    "\n",
    "# Set the style\n",
    "sns.set(style='whitegrid')\n",
    "\n",
    "# Create subplots\n",
    "plt.figure(figsize=(15, 10))\n",
    "\n",
    "# Plot GHI\n",
    "plt.subplot(4, 1, 1)\n",
    "plt.plot(df.index, df['GHI'], label='GHI', color='orange')\n",
    "plt.title('Global Horizontal Irradiance (GHI)')\n",
    "plt.ylabel('Irradiance (W/m²)')\n",
    "plt.legend()\n",
    "\n",
    "# Plot DNI\n",
    "plt.subplot(4, 1, 2)\n",
    "plt.plot(df.index, df['DNI'], label='DNI', color='blue')\n",
    "plt.title('Direct Normal Irradiance (DNI)')\n",
    "plt.ylabel('Irradiance (W/m²)')\n",
    "plt.legend()\n",
    "\n",
    "# Plot DHI\n",
    "plt.subplot(4, 1, 3)\n",
    "plt.plot(df.index, df['DHI'], label='DHI', color='green')\n",
    "plt.title('Diffuse Horizontal Irradiance (DHI)')\n",
    "plt.ylabel('Irradiance (W/m²)')\n",
    "plt.legend()\n",
    "\n",
    "# Plot Tamb\n",
    "plt.subplot(4, 1, 4)\n",
    "plt.plot(df.index, df['Tamb'], label='Tamb', color='red')\n",
    "plt.title('Ambient Temperature (Tamb)')\n",
    "plt.ylabel('Temperature (°C)')\n",
    "plt.xlabel('Timestamp')\n",
    "plt.legend()\n",
    "\n",
    "# Adjust layout and show\n",
    "plt.tight_layout()\n",
    "plt.show()"
   ]
  },
  {
   "cell_type": "markdown",
   "id": "697f4238",
   "metadata": {},
   "source": [
    "Cleaning Impact"
   ]
  },
  {
   "cell_type": "code",
   "execution_count": null,
   "id": "99f4c124",
   "metadata": {},
   "outputs": [],
   "source": []
  },
  {
   "cell_type": "markdown",
   "id": "4c8c2002",
   "metadata": {},
   "source": []
  },
  {
   "cell_type": "code",
   "execution_count": null,
   "id": "b56b936b",
   "metadata": {},
   "outputs": [],
   "source": []
  },
  {
   "cell_type": "markdown",
   "id": "4e9bfc07",
   "metadata": {},
   "source": []
  },
  {
   "cell_type": "code",
   "execution_count": null,
   "id": "6282ace9",
   "metadata": {},
   "outputs": [],
   "source": []
  }
 ],
 "metadata": {
  "kernelspec": {
   "display_name": ".venv",
   "language": "python",
   "name": "python3"
  },
  "language_info": {
   "codemirror_mode": {
    "name": "ipython",
    "version": 3
   },
   "file_extension": ".py",
   "mimetype": "text/x-python",
   "name": "python",
   "nbconvert_exporter": "python",
   "pygments_lexer": "ipython3",
   "version": "3.12.3"
  }
 },
 "nbformat": 4,
 "nbformat_minor": 5
}
